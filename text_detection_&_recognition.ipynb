{
  "cells": [
    {
      "cell_type": "markdown",
      "metadata": {
        "id": "J4Hn14phw31N"
      },
      "source": [
        "## Installs"
      ]
    },
    {
      "cell_type": "code",
      "execution_count": null,
      "metadata": {
        "id": "2NTcoljal5aq"
      },
      "outputs": [],
      "source": [
        "!pip install tensorflow==2.7.0"
      ]
    },
    {
      "cell_type": "code",
      "execution_count": null,
      "metadata": {
        "id": "vMytBj7HwulB"
      },
      "outputs": [],
      "source": [
        "!pip install jiwer"
      ]
    },
    {
      "cell_type": "code",
      "execution_count": null,
      "metadata": {
        "id": "dkU6eM05Yx1V"
      },
      "outputs": [],
      "source": [
        "!pip install -U git+https://github.com/faustomorales/keras-ocr.git@v0.8.7"
      ]
    },
    {
      "cell_type": "code",
      "execution_count": null,
      "metadata": {
        "id": "_jX9s1xPj26K"
      },
      "outputs": [],
      "source": [
        "!pip install -U opencv-python==4.1.2.30"
      ]
    },
    {
      "cell_type": "code",
      "execution_count": null,
      "metadata": {
        "id": "hWANY3vbTLer"
      },
      "outputs": [],
      "source": [
        "import zipfile\n",
        "import datetime\n",
        "import string\n",
        "import glob\n",
        "import math\n",
        "import os\n",
        "\n",
        "import numpy as np\n",
        "import tqdm\n",
        "import matplotlib.pyplot as plt\n",
        "import tensorflow as tf\n",
        "import sklearn.model_selection\n",
        "import random\n",
        "from IPython.display import clear_output\n",
        "\n",
        "import keras_ocr\n",
        "\n",
        "import jiwer # for CER"
      ]
    },
    {
      "cell_type": "markdown",
      "metadata": {
        "id": "npb7IGS4iXhL"
      },
      "source": [
        "## Mount drive"
      ]
    },
    {
      "cell_type": "code",
      "execution_count": null,
      "metadata": {
        "id": "gfOKy2wkgGm9",
        "colab": {
          "base_uri": "https://localhost:8080/"
        },
        "outputId": "32773d8c-71c2-4524-9c3e-093953294635"
      },
      "outputs": [
        {
          "output_type": "stream",
          "name": "stdout",
          "text": [
            "Drive already mounted at /content/drive; to attempt to forcibly remount, call drive.mount(\"/content/drive\", force_remount=True).\n"
          ]
        }
      ],
      "source": [
        "try:\n",
        "  from google.colab import drive\n",
        "  import os\n",
        "  drive.mount('/content/drive')\n",
        "  data_dir = 'drive/My Drive/Project'\n",
        "  os.makedirs(data_dir, exist_ok=True)\n",
        "except ImportError:\n",
        "  data_dir = '.'"
      ]
    },
    {
      "cell_type": "markdown",
      "metadata": {
        "id": "oKYVFDRTs_Fz"
      },
      "source": [
        "## Generating synthetic data"
      ]
    },
    {
      "cell_type": "code",
      "execution_count": null,
      "metadata": {
        "id": "BoP2AzhvCW1J"
      },
      "outputs": [],
      "source": [
        "import string\n",
        "ukr_letters = 'бвгґдєжзиїйклмнптуфцчшщьюяБГҐДЄЖЗИЇЙЛПУФЦЧШЩЬЮЯ'\n",
        "en_letters = 'abcdefghijklmnopqrstuvwxyzABCDEFGHIJKLMNOPQRSTUVWXYZ'\n",
        "special_symbols = '-'\n",
        "alphabet = string.digits + ukr_letters + en_letters + ' ' + special_symbols\n",
        "recognizer_alphabet = ''.join(sorted(set(alphabet)))"
      ]
    },
    {
      "cell_type": "code",
      "execution_count": null,
      "metadata": {
        "id": "UBUAbmWyCbBK"
      },
      "outputs": [],
      "source": [
        "fonts = keras_ocr.data_generation.get_fonts(\n",
        "    alphabet=alphabet,\n",
        "    cache_dir=data_dir+'/data'\n",
        ")"
      ]
    },
    {
      "cell_type": "code",
      "execution_count": null,
      "metadata": {
        "id": "8Y3QCoLmYx1Y"
      },
      "outputs": [],
      "source": [
        "backgrounds = keras_ocr.data_generation.get_backgrounds(cache_dir=data_dir+'/data')"
      ]
    },
    {
      "cell_type": "code",
      "execution_count": null,
      "metadata": {
        "id": "e7n9DcqeCF7a"
      },
      "outputs": [],
      "source": [
        "def text_generator(alphabet, max_string_length):\n",
        "    while True:\n",
        "        sentence_len = np.random.randint(low = 1, high = max_string_length + 1)\n",
        "        letter_indexes = np.random.randint(low = 0, high = len(alphabet), size = sentence_len)\n",
        "        letter_list = [alphabet[letter_indexes[i]] for i in range(sentence_len)]\n",
        "        sentence = ''.join(letter_list)\n",
        "        yield sentence"
      ]
    },
    {
      "cell_type": "code",
      "execution_count": null,
      "metadata": {
        "id": "mQbqpYzFBZLa"
      },
      "outputs": [],
      "source": [
        "def get_train_val_test_split(arr):\n",
        "    train, valtest = sklearn.model_selection.train_test_split(arr, train_size=0.8, random_state=42)\n",
        "    val, test = sklearn.model_selection.train_test_split(valtest, train_size=0.5, random_state=42)\n",
        "    return train, val, test"
      ]
    },
    {
      "cell_type": "code",
      "execution_count": null,
      "metadata": {
        "colab": {
          "base_uri": "https://localhost:8080/"
        },
        "id": "NSdDiqeNt6gG",
        "outputId": "2c356a5c-71e0-4781-8a0f-47f0754ad65c"
      },
      "outputs": [
        {
          "output_type": "stream",
          "name": "stdout",
          "text": [
            "The first generated validation image (below) contains: n\n",
            "GoЦЄ\n",
            "шl6F6\n"
          ]
        },
        {
          "output_type": "execute_result",
          "data": {
            "text/plain": [
              "<matplotlib.image.AxesImage at 0x7f50f9cd0e50>"
            ]
          },
          "metadata": {},
          "execution_count": 13
        },
        {
          "output_type": "display_data",
          "data": {
            "text/plain": [
              "<Figure size 432x288 with 1 Axes>"
            ],
            "image/png": "[encoded data removed]"
          },
          "metadata": {
            "needs_background": "light"
          }
        }
      ],
      "source": [
        "max_string_length = 100\n",
        "text_generator = text_generator(alphabet, max_string_length)\n",
        "\n",
        "background_splits = get_train_val_test_split(backgrounds)\n",
        "font_splits = get_train_val_test_split(fonts)\n",
        "\n",
        "image_generators = [\n",
        "    keras_ocr.data_generation.get_image_generator (\n",
        "        height=640,\n",
        "        width=640,\n",
        "        text_generator=text_generator,\n",
        "        font_groups={\n",
        "            alphabet: current_fonts\n",
        "        },\n",
        "        backgrounds=current_backgrounds,\n",
        "        font_size=(60, 120),\n",
        "        margin=60,\n",
        "        rotationX=(-0.05, 0.05),\n",
        "        rotationY=(-0.05, 0.05),\n",
        "        rotationZ=(-15, 15)\n",
        "    )  for current_fonts, current_backgrounds in zip(\n",
        "        font_splits,\n",
        "        background_splits\n",
        "    )\n",
        "]\n",
        "\n",
        "# See what the first validation image looks like.\n",
        "image, lines = next(image_generators[1])\n",
        "text = keras_ocr.data_generation.convert_lines_to_paragraph(lines)\n",
        "print('The first generated validation image (below) contains:', text)\n",
        "plt.imshow(image)"
      ]
    },
    {
      "cell_type": "markdown",
      "source": [
        "## Bluring"
      ],
      "metadata": {
        "id": "cXb2_NvQVgOP"
      }
    },
    {
      "cell_type": "code",
      "source": [
        "def image_generator_with_blur(image_generator, min_ksize, max_ksize, some_without_blur = True):\n",
        "    while True:\n",
        "        if (min_ksize % 2 == 0):\n",
        "            min_ksize += 1\n",
        "        possible_ksize = [i for i in range(min_ksize, max_ksize + 1, 2)]\n",
        "        low_index = 0\n",
        "        if some_without_blur:\n",
        "            low_index = -1\n",
        "        index = np.random.randint(low = low_index, high = len(possible_ksize))\n",
        "        image, lines = next(image_generator)\n",
        "        if index > -1:\n",
        "            image = cv2.GaussianBlur(image, (possible_ksize[index], possible_ksize[index]), 0)\n",
        "        yield (image, lines)"
      ],
      "metadata": {
        "id": "2J1_WbSpViup"
      },
      "execution_count": null,
      "outputs": []
    },
    {
      "cell_type": "code",
      "source": [
        "min_ksize = 15\n",
        "max_ksize = 43\n",
        "blur_image_generators = [image_generator_with_blur(image_generators[i], min_ksize, max_ksize) for i in range(3)]\n",
        "image_generators = blur_image_generators\n",
        "image, lines = next(image_generators[0])\n",
        "plt.imshow(image)"
      ],
      "metadata": {
        "id": "b7r04wp5VlmP"
      },
      "execution_count": null,
      "outputs": []
    },
    {
      "cell_type": "markdown",
      "metadata": {
        "id": "9Fwiv09P0Yk_"
      },
      "source": [
        "## Load weights"
      ]
    },
    {
      "cell_type": "code",
      "execution_count": null,
      "metadata": {
        "id": "uN0Kuy8kZED2",
        "colab": {
          "base_uri": "https://localhost:8080/"
        },
        "outputId": "a85f74a0-f466-4716-f39b-1ef8ab56d3c3"
      },
      "outputs": [
        {
          "output_type": "stream",
          "name": "stdout",
          "text": [
            "Looking for /root/.keras-ocr/craft_mlt_25k.h5\n"
          ]
        }
      ],
      "source": [
        "detector = keras_ocr.detection.Detector(weights='clovaai_general')"
      ]
    },
    {
      "cell_type": "code",
      "execution_count": null,
      "metadata": {
        "id": "qdMVVmLvYx1d"
      },
      "outputs": [],
      "source": [
        "recognizer = keras_ocr.recognition.Recognizer(\n",
        "    alphabet=recognizer_alphabet,\n",
        "    weights='kurapan'  # 'kurapan'\n",
        ")\n",
        "# recognizer.model.load_weights(data_dir + '/weights' + '/last.h5')\n",
        "recognizer.compile()"
      ]
    },
    {
      "cell_type": "code",
      "execution_count": null,
      "metadata": {
        "id": "27sXs5VDZHVg"
      },
      "outputs": [],
      "source": [
        "for layer in recognizer.backbone.layers:\n",
        "    layer.trainable = False"
      ]
    },
    {
      "cell_type": "markdown",
      "metadata": {
        "id": "KG48HQz-vFmj"
      },
      "source": [
        "## Train the detector"
      ]
    },
    {
      "cell_type": "code",
      "execution_count": null,
      "metadata": {
        "id": "-0VONWumoQQk"
      },
      "outputs": [],
      "source": [
        "num_epochs = 10\n",
        "weights_dir = data_dir + '/weights'"
      ]
    },
    {
      "cell_type": "code",
      "execution_count": null,
      "metadata": {
        "id": "TCFiPHq2Yx1j"
      },
      "outputs": [],
      "source": [
        "detector_batch_size = 4\n",
        "detector_basepath = os.path.join(weights_dir, f'detector_{datetime.datetime.now().isoformat()}')\n",
        "detection_train_generator, detection_val_generator, detection_test_generator = [\n",
        "    detector.get_batch_generator(\n",
        "        image_generator=image_generator,\n",
        "        batch_size=detector_batch_size\n",
        "    ) for image_generator in image_generators\n",
        "]\n",
        "detector.model.fit(\n",
        "    detection_train_generator,\n",
        "    steps_per_epoch=math.ceil(len(background_splits[0]) / detector_batch_size),\n",
        "    epochs=num_epochs,\n",
        "    workers=0,\n",
        "    callbacks=[\n",
        "        tf.keras.callbacks.EarlyStopping(restore_best_weights=True, patience=5),\n",
        "        tf.keras.callbacks.CSVLogger(f'{detector_basepath}.csv'),\n",
        "        tf.keras.callbacks.ModelCheckpoint(filepath=f'{detector_basepath}.h5')\n",
        "    ],\n",
        "    validation_data=detection_val_generator,\n",
        "    validation_steps=math.ceil(len(background_splits[1]) / detector_batch_size)\n",
        ")"
      ]
    },
    {
      "cell_type": "markdown",
      "metadata": {
        "id": "wT23h3EGvkQ0"
      },
      "source": [
        "## Train the recognizer"
      ]
    },
    {
      "cell_type": "markdown",
      "source": [],
      "metadata": {
        "id": "1T90PgasRKU_"
      }
    },
    {
      "cell_type": "code",
      "execution_count": null,
      "metadata": {
        "colab": {
          "base_uri": "https://localhost:8080/",
          "height": 138
        },
        "id": "uJ0IHI4PT-Uq",
        "outputId": "881086f0-6b7d-41ce-a770-503a3cae5d93"
      },
      "outputs": [
        {
          "output_type": "stream",
          "name": "stdout",
          "text": [
            "This image contains: EЇ\n"
          ]
        },
        {
          "output_type": "execute_result",
          "data": {
            "text/plain": [
              "<matplotlib.image.AxesImage at 0x7f50fa372cd0>"
            ]
          },
          "metadata": {},
          "execution_count": 16
        },
        {
          "output_type": "display_data",
          "data": {
            "text/plain": [
              "<Figure size 432x288 with 1 Axes>"
            ],
            "image/png": "[encoded data removed]"
          },
          "metadata": {
            "needs_background": "light"
          }
        }
      ],
      "source": [
        "max_length = 20\n",
        "recognition_image_generators = [\n",
        "    keras_ocr.data_generation.convert_image_generator_to_recognizer_input(\n",
        "        image_generator=image_generator,\n",
        "        max_string_length=min(recognizer.training_model.input_shape[1][1], max_length),\n",
        "        target_width=recognizer.model.input_shape[2],\n",
        "        target_height=recognizer.model.input_shape[1],\n",
        "        margin=1\n",
        "    ) for image_generator in image_generators\n",
        "]\n",
        "\n",
        "# See what the first validation image for recognition training looks like.\n",
        "image, text = next(recognition_image_generators[1])\n",
        "print('This image contains:', text)\n",
        "plt.imshow(image)"
      ]
    },
    {
      "cell_type": "code",
      "source": [
        "recognition_num_epochs = 100\n",
        "recognition_batch_size = 32\n",
        "steps_per_epoch = math.ceil(len(background_splits[0]) / recognition_batch_size) \n",
        "validation_steps = math.ceil(len(background_splits[1]) / recognition_batch_size) "
      ],
      "metadata": {
        "id": "LxkpoB8eWO4f"
      },
      "execution_count": null,
      "outputs": []
    },
    {
      "cell_type": "code",
      "execution_count": null,
      "metadata": {
        "id": "27hytnFasGBO"
      },
      "outputs": [],
      "source": [
        "recognizer_basepath = os.path.join(data_dir, f'recognizer_{datetime.datetime.now().isoformat()}')\n",
        "recognition_train_generator, recognition_val_generator, recogntion_test_generator = [\n",
        "    recognizer.get_batch_generator(\n",
        "      image_generator=image_generator,\n",
        "      batch_size=recognition_batch_size,\n",
        "      lowercase=False\n",
        "    ) for image_generator in recognition_image_generators\n",
        "]\n",
        "history = recognizer.training_model.fit_generator(\n",
        "    generator=recognition_train_generator,\n",
        "    epochs=recognition_num_epochs,\n",
        "    steps_per_epoch=steps_per_epoch,\n",
        "    callbacks=[\n",
        "      tf.keras.callbacks.CSVLogger(f'{recognizer_basepath}.csv', append=True),\n",
        "      tf.keras.callbacks.ModelCheckpoint(filepath=f'{recognizer_basepath}.h5', save_best_only = True),\n",
        "      PlotLosses()\n",
        "    ],\n",
        "    validation_data=recognition_val_generator,\n",
        "    validation_steps=validation_steps,\n",
        "    workers=0\n",
        ")\n",
        "recognizer.model.save(f'{recognizer_basepath}_last_epoch.h5')"
      ]
    },
    {
      "cell_type": "markdown",
      "metadata": {
        "id": "oMX7M-kCVemB"
      },
      "source": [
        "## Plot losses"
      ]
    },
    {
      "cell_type": "code",
      "source": [
        "class PlotLearning(tf.keras.callbacks.Callback):\n",
        "    \"\"\"\n",
        "    Callback to plot the learning curves of the model during training.\n",
        "    \"\"\"\n",
        "    def on_train_begin(self, logs={}):\n",
        "        self.metrics = {}\n",
        "        for metric in logs:\n",
        "            self.metrics[metric] = []\n",
        "            \n",
        "\n",
        "    def on_epoch_end(self, epoch, logs={}):\n",
        "        # Storing metrics\n",
        "        for metric in logs:\n",
        "            if metric in self.metrics:\n",
        "                self.metrics[metric].append(logs.get(metric))\n",
        "            else:\n",
        "                self.metrics[metric] = [logs.get(metric)]\n",
        "        \n",
        "        # Plotting\n",
        "        metrics = [x for x in logs if 'val' not in x]\n",
        "        \n",
        "        f, axs = plt.subplots(1, len(metrics), figsize=(15,5))\n",
        "        clear_output(wait=True)\n",
        "\n",
        "        for i, metric in enumerate(metrics):\n",
        "            axs[i].plot(range(1, epoch + 2), \n",
        "                        self.metrics[metric], \n",
        "                        label=metric)\n",
        "            if logs['val_' + metric]:\n",
        "                axs[i].plot(range(1, epoch + 2), \n",
        "                            self.metrics['val_' + metric], \n",
        "                            label='val_' + metric)\n",
        "                \n",
        "            axs[i].legend()\n",
        "            axs[i].grid()\n",
        "\n",
        "        plt.tight_layout()\n",
        "        plt.show()"
      ],
      "metadata": {
        "id": "8QWIHzTZWXO3"
      },
      "execution_count": null,
      "outputs": []
    },
    {
      "cell_type": "code",
      "source": [
        "class PlotLosses(tf.keras.callbacks.Callback):\n",
        "    def on_train_begin(self, logs={}):\n",
        "        self.i = 0\n",
        "        self.x = []\n",
        "        self.losses = []\n",
        "        self.val_losses = []\n",
        "        \n",
        "        self.fig = plt.figure()\n",
        "        \n",
        "        self.logs = []\n",
        "\n",
        "    def on_epoch_end(self, epoch, logs={}):\n",
        "        \n",
        "        self.logs.append(logs)\n",
        "        self.x.append(self.i)\n",
        "        self.losses.append(logs.get('loss'))\n",
        "        self.val_losses.append(logs.get('val_loss'))\n",
        "        self.i += 1\n",
        "        \n",
        "        clear_output(wait=True)\n",
        "        plt.plot(self.x, self.losses, label=\"loss\")\n",
        "        plt.plot(self.x, self.val_losses, label=\"val_loss\")\n",
        "        plt.legend()\n",
        "        plt.show();\n",
        "        "
      ],
      "metadata": {
        "id": "YIcMkEW-WZcX"
      },
      "execution_count": null,
      "outputs": []
    },
    {
      "cell_type": "code",
      "execution_count": null,
      "metadata": {
        "id": "1HXNmzyIVgHB"
      },
      "outputs": [],
      "source": [
        "%matplotlib inline\n",
        "%config InlineBackend.figure_format = 'svg'\n",
        "def plot_metric(history, metric):\n",
        "    train_metrics = history.history[metric]\n",
        "    val_metrics = history.history['val_'+metric]\n",
        "    epochs = range(1, len(train_metrics) + 1)\n",
        "    plt.plot(epochs, train_metrics)\n",
        "    plt.plot(epochs, val_metrics)\n",
        "    plt.title('Training and validation '+ metric)\n",
        "    plt.xlabel(\"Epochs\")\n",
        "    plt.ylabel(metric)\n",
        "    plt.legend([\"train_\"+metric, 'val_'+metric])\n",
        "    plt.savefig(f'{recognizer_basepath}ThirdIteration.png')\n",
        "    plt.show()"
      ]
    },
    {
      "cell_type": "code",
      "source": [
        "plot_metric(history, 'loss')"
      ],
      "metadata": {
        "id": "HMVSXmDrWh_n"
      },
      "execution_count": null,
      "outputs": []
    },
    {
      "cell_type": "markdown",
      "metadata": {
        "id": "57Hfv4Os3pc7"
      },
      "source": [
        "## Obtaining metrics"
      ]
    },
    {
      "cell_type": "code",
      "execution_count": null,
      "metadata": {
        "id": "dyd023-b4TWn"
      },
      "outputs": [],
      "source": [
        "def recognizer_cer_from_generator(recognizer, generator, num_iter, case_sensitive = True):\n",
        "    \"\"\"Obtain avarage CER(Character Error Rate)\n",
        "\n",
        "    Args:\n",
        "        recognizer: recognizer model\n",
        "        generator: generator of cropped images, ex. convert_image_generator_to_recognizer_input\n",
        "        num_iter: number of iterations - aka number of samples\n",
        "    \"\"\"\n",
        "    cer_arr = np.empty([num_iter], dtype=np.float128)\n",
        "    for i in range(num_iter):\n",
        "        image, ground_truth_text = next(generator)\n",
        "        predicted_text = recognizer.recognize(image)\n",
        "        if (not case_sensitive):\n",
        "          predicted_text = predicted_text.lower()\n",
        "          ground_truth_text = ground_truth_text.lower()\n",
        "        cer_arr[i] = jiwer.cer(ground_truth_text, predicted_text)  \n",
        "    return np.mean(cer_arr)"
      ]
    },
    {
      "cell_type": "code",
      "execution_count": null,
      "metadata": {
        "id": "_t8xf3fyI2YU"
      },
      "outputs": [],
      "source": [
        "train_cer = recognizer_cer_from_generator(recognizer, recognition_image_generators[0], len(background_splits[0]))\n",
        "print(f'Train CER: {train_cer:.2f}')"
      ]
    },
    {
      "cell_type": "code",
      "execution_count": null,
      "metadata": {
        "id": "q4k4HrmbGR6Z"
      },
      "outputs": [],
      "source": [
        "val_cer = recognizer_cer_from_generator(recognizer, recognition_image_generators[1], len(background_splits[1]))\n",
        "print(f'Validation CER: {val_cer:.2f}')"
      ]
    },
    {
      "cell_type": "code",
      "execution_count": null,
      "metadata": {
        "id": "Ys_qmH19HMjJ"
      },
      "outputs": [],
      "source": [
        "test_cer = recognizer_cer_from_generator(recognizer, recognition_image_generators[2], len(background_splits[2]))\n",
        "print(f'Test CER: {test_cer:.2f}')"
      ]
    },
    {
      "cell_type": "code",
      "source": [
        "step_size = 5\n",
        "num_iterations = 600\n",
        "pipeline = keras_ocr.pipeline.Pipeline(detector = detector, recognizer = recognizer)\n",
        "predicted_annotations = {}\n",
        "ground_truth_annotations = {}\n",
        "\n",
        "for step in tqdm.tqdm(range(0, num_iterations, step_size)):\n",
        "    images = []\n",
        "    for i in range(step_size):\n",
        "        image, lines = next(image_generators[2])\n",
        "        predicted_annotations[str(step + i)] = []\n",
        "        for line in lines:\n",
        "            text_line = ''.join([line_item[1] for line_item in line])\n",
        "            last_index = len(line) - 1\n",
        "            bounding_box = np.array([line[0][0][0], line[last_index][0][1], line[last_index][0][2], line[0][0][3]])\n",
        "            predicted_annotations[str(step + i)].append(\n",
        "             {\n",
        "                 'text': text_line, 'vertices': bounding_box.tolist()\n",
        "             } \n",
        "            )\n",
        "        images.append(image)\n",
        "    prediction_groups = pipeline.recognize(images)\n",
        "    for i, predictions in enumerate(prediction_groups):\n",
        "        ground_truth_annotations[str(step + i)] = [\n",
        "            {\n",
        "                'text': text, 'vertices': box.tolist()\n",
        "            } for text, box in predictions\n",
        "        ]"
      ],
      "metadata": {
        "id": "WKMfmAflaHjG"
      },
      "execution_count": null,
      "outputs": []
    },
    {
      "cell_type": "code",
      "source": [
        "results, (precision, recall) = keras_ocr.evaluation.score(ground_truth_annotations, predicted_annotations)"
      ],
      "metadata": {
        "id": "no_73P7laIL3"
      },
      "execution_count": null,
      "outputs": []
    },
    {
      "cell_type": "code",
      "source": [
        "print(f'Samples: {num_iterations}')\n",
        "print(f'Precision: {precision:.2f}')\n",
        "print(f'Recall: {recall:.2f}')"
      ],
      "metadata": {
        "id": "kxqFGqHcaKDm"
      },
      "execution_count": null,
      "outputs": []
    },
    {
      "cell_type": "markdown",
      "metadata": {
        "id": "OZVOpFEIwP6e"
      },
      "source": [
        "## Test images"
      ]
    },
    {
      "cell_type": "code",
      "source": [
        "# [[l, t], [r, t], [r, b], [l, b]]\n",
        "\n",
        "def obtain_text(prediction):\n",
        "    max_height = np.max([abs(bbox[1][1][1] - bbox[1][3][1]) for bbox in prediction])\n",
        "\n",
        "    pred_sorted = sorted(prediction, key=lambda x: x[1][0][1])\n",
        "\n",
        "    line_top = pred_sorted[0][1][0][1]\n",
        "    line = 1\n",
        "    by_line = []\n",
        "\n",
        "    for bbox in pred_sorted:\n",
        "        if bbox[1][0][1] > line_top + max_height - 10:\n",
        "            line_top = bbox[1][0][1]\n",
        "            line += 1\n",
        "\n",
        "        by_line.append((line, bbox))\n",
        "\n",
        "    by_line_sorted = sorted(by_line)\n",
        "    line_n = len(set([line for line, bbox in sorted(by_line)]))\n",
        "\n",
        "    text = ''\n",
        "    for i in range(1, line_n + 1):\n",
        "        line_bbox = [bbox[1] for bbox in by_line_sorted if bbox[0] == i]\n",
        "        line_sorted = sorted(line_bbox, key=lambda x: x[1][0][0])\n",
        "        \n",
        "        text += ' '.join([bbox[0] for bbox in line_sorted])\n",
        "        text += '\\n'\n",
        "\n",
        "    return text"
      ],
      "metadata": {
        "id": "VbVH_vRpqk_6"
      },
      "execution_count": null,
      "outputs": []
    },
    {
      "cell_type": "code",
      "source": [
        "pipeline = keras_ocr.pipeline.Pipeline(detector=detector, recognizer=recognizer)\n",
        "\n",
        "dir = data_dir + '/data/Test_Photos/'\n",
        "\n",
        "images = [\n",
        "    keras_ocr.tools.read(path) for path in [\n",
        "        dir + '1.png',\n",
        "        dir + '2.png'\n",
        "    ]\n",
        "]\n",
        "\n",
        "prediction_groups = pipeline.recognize(images)\n",
        "\n",
        "annotation = obtain_text(prediction_groups[0])\n",
        "print(annotation)\n",
        "\n",
        "fig, axs = plt.subplots(nrows=len(images), figsize=(20, 20))\n",
        "for ax, image, predictions in zip(axs, images, prediction_groups):\n",
        "    keras_ocr.tools.drawAnnotations(image, predictions, ax=ax)"
      ],
      "metadata": {
        "id": "1Y6xuWPaXsa-"
      },
      "execution_count": null,
      "outputs": []
    },
    {
      "cell_type": "markdown",
      "source": [
        "## Test video"
      ],
      "metadata": {
        "id": "ReFIyeFGYuRe"
      }
    },
    {
      "cell_type": "code",
      "source": [
        "# function to convert the JavaScript object into an OpenCV image\n",
        "def js_to_image(js_reply):\n",
        "  \"\"\"\n",
        "  Params:\n",
        "          js_reply: JavaScript object containing image from webcam\n",
        "  Returns:\n",
        "          img: OpenCV BGR image\n",
        "  \"\"\"\n",
        "  # decode base64 image\n",
        "  image_bytes = b64decode(js_reply.split(',')[1])\n",
        "  # convert bytes to numpy array\n",
        "  jpg_as_np = np.frombuffer(image_bytes, dtype=np.uint8)\n",
        "  # decode numpy array into OpenCV BGR image\n",
        "  img = cv2.imdecode(jpg_as_np, flags=1)\n",
        "\n",
        "  return img\n",
        "\n",
        "# function to convert OpenCV Rectangle bounding box image into base64 byte string to be overlayed on video stream\n",
        "def bbox_to_bytes(bbox_array):\n",
        "  \"\"\"\n",
        "  Params:\n",
        "          bbox_array: Numpy array (pixels) containing rectangle to overlay on video stream.\n",
        "  Returns:\n",
        "        bytes: Base64 image byte string\n",
        "  \"\"\"\n",
        "  # convert array into PIL image\n",
        "  bbox_PIL = PIL.Image.fromarray(bbox_array, 'RGBA')\n",
        "  iobuf = io.BytesIO()\n",
        "  # format bbox into png for return\n",
        "  bbox_PIL.save(iobuf, format='png')\n",
        "  # format return string\n",
        "  bbox_bytes = 'data:image/png;base64,{}'.format((str(b64encode(iobuf.getvalue()), 'utf-8')))\n",
        "\n",
        "  return bbox_bytes"
      ],
      "metadata": {
        "id": "C_0dtNKsYxYW"
      },
      "execution_count": null,
      "outputs": []
    },
    {
      "cell_type": "code",
      "source": [
        "# JavaScript to properly create our live video stream using our webcam as input\n",
        "def video_stream():\n",
        "  js = Javascript('''\n",
        "    var video;\n",
        "    var div = null;\n",
        "    var stream;\n",
        "    var captureCanvas;\n",
        "    var imgElement;\n",
        "    var labelElement;\n",
        "    \n",
        "    var pendingResolve = null;\n",
        "    var shutdown = false;\n",
        "    \n",
        "    function removeDom() {\n",
        "       stream.getVideoTracks()[0].stop();\n",
        "       video.remove();\n",
        "       div.remove();\n",
        "       video = null;\n",
        "       div = null;\n",
        "       stream = null;\n",
        "       imgElement = null;\n",
        "       captureCanvas = null;\n",
        "       labelElement = null;\n",
        "    }\n",
        "    \n",
        "    function onAnimationFrame() {\n",
        "      if (!shutdown) {\n",
        "        window.requestAnimationFrame(onAnimationFrame);\n",
        "      }\n",
        "      if (pendingResolve) {\n",
        "        var result = \"\";\n",
        "        if (!shutdown) {\n",
        "          captureCanvas.getContext('2d').drawImage(video, 0, 0, 640, 640);\n",
        "          result = captureCanvas.toDataURL('image/jpeg', 0.8)\n",
        "        }\n",
        "        var lp = pendingResolve;\n",
        "        pendingResolve = null;\n",
        "        lp(result);\n",
        "      }\n",
        "    }\n",
        "    \n",
        "    async function createDom() {\n",
        "      if (div !== null) {\n",
        "        return stream;\n",
        "      }\n",
        "\n",
        "      div = document.createElement('div');\n",
        "      div.style.border = '2px solid black';\n",
        "      div.style.padding = '3px';\n",
        "      div.style.width = '100%';\n",
        "      div.style.maxWidth = '600px';\n",
        "      document.body.appendChild(div);\n",
        "      \n",
        "      const modelOut = document.createElement('div');\n",
        "      modelOut.innerHTML = \"<span>Status:</span>\";\n",
        "      labelElement = document.createElement('span');\n",
        "      labelElement.innerText = 'No data';\n",
        "      labelElement.style.fontWeight = 'bold';\n",
        "      modelOut.appendChild(labelElement);\n",
        "      div.appendChild(modelOut);\n",
        "           \n",
        "      video = document.createElement('video');\n",
        "      video.style.display = 'block';\n",
        "      video.width = div.clientWidth - 6;\n",
        "      video.setAttribute('playsinline', '');\n",
        "      video.onclick = () => { shutdown = true; };\n",
        "      stream = await navigator.mediaDevices.getUserMedia(\n",
        "          {video: { facingMode: \"environment\"}});\n",
        "      div.appendChild(video);\n",
        "\n",
        "      imgElement = document.createElement('img');\n",
        "      imgElement.style.position = 'absolute';\n",
        "      imgElement.style.zIndex = 1;\n",
        "      imgElement.onclick = () => { shutdown = true; };\n",
        "      div.appendChild(imgElement);\n",
        "      \n",
        "      const instruction = document.createElement('div');\n",
        "      instruction.innerHTML = \n",
        "          '<span style=\"color: red; font-weight: bold;\">' +\n",
        "          'When finished, click here or on the video to stop this demo</span>';\n",
        "      div.appendChild(instruction);\n",
        "      instruction.onclick = () => { shutdown = true; };\n",
        "      \n",
        "      video.srcObject = stream;\n",
        "      await video.play();\n",
        "\n",
        "      captureCanvas = document.createElement('canvas');\n",
        "      captureCanvas.width = 640; //video.videoWidth;\n",
        "      captureCanvas.height = 640; //video.videoHeight;\n",
        "      window.requestAnimationFrame(onAnimationFrame);\n",
        "      \n",
        "      return stream;\n",
        "    }\n",
        "    async function stream_frame(label, imgData) {\n",
        "      if (shutdown) {\n",
        "        removeDom();\n",
        "        shutdown = false;\n",
        "        return '';\n",
        "      }\n",
        "\n",
        "      var preCreate = Date.now();\n",
        "      stream = await createDom();\n",
        "      \n",
        "      var preShow = Date.now();\n",
        "      if (label != \"\") {\n",
        "        labelElement.innerHTML = label;\n",
        "      }\n",
        "            \n",
        "      if (imgData != \"\") {\n",
        "        var videoRect = video.getClientRects()[0];\n",
        "        imgElement.style.top = videoRect.top + \"px\";\n",
        "        imgElement.style.left = videoRect.left + \"px\";\n",
        "        imgElement.style.width = videoRect.width + \"px\";\n",
        "        imgElement.style.height = videoRect.height + \"px\";\n",
        "        imgElement.src = imgData;\n",
        "      }\n",
        "      \n",
        "      var preCapture = Date.now();\n",
        "      var result = await new Promise(function(resolve, reject) {\n",
        "        pendingResolve = resolve;\n",
        "      });\n",
        "      shutdown = false;\n",
        "      \n",
        "      return {'create': preShow - preCreate, \n",
        "              'show': preCapture - preShow, \n",
        "              'capture': Date.now() - preCapture,\n",
        "              'img': result};\n",
        "    }\n",
        "    ''')\n",
        "\n",
        "  display(js)\n",
        "  \n",
        "def video_frame(label, bbox):\n",
        "  data = eval_js('stream_frame(\"{}\", \"{}\")'.format(label, bbox))\n",
        "  return data"
      ],
      "metadata": {
        "id": "9urJerB9Y1Z_"
      },
      "execution_count": null,
      "outputs": []
    },
    {
      "cell_type": "code",
      "source": [
        "fontpath = 'drive/MyDrive/Project/data/fonts/firasanscondensed/FiraSansCondensed-Regular.ttf'"
      ],
      "metadata": {
        "id": "6FLoZ2b3Y4Xm"
      },
      "execution_count": null,
      "outputs": []
    },
    {
      "cell_type": "code",
      "source": [
        "def get_font(fontpath, box, text):\n",
        "  font_size = 100\n",
        "  box_width = box[1][0] - box[0][0]\n",
        "  desired_text_width = box_width * 0.8\n",
        "  width = None\n",
        "  while (width is None or width > box_width) and font_size > 0:\n",
        "    font = PIL.ImageFont.truetype(fontpath, size = font_size)\n",
        "    #text_width = font.getlength(text)\n",
        "    #text_width = font.getbbox(text)\n",
        "    width, height = font.getsize(text)\n",
        "    font_size -= 1\n",
        "  return PIL.ImageFont.truetype(fontpath, size = font_size)"
      ],
      "metadata": {
        "id": "-z2vylwDZRum"
      },
      "execution_count": null,
      "outputs": []
    },
    {
      "cell_type": "code",
      "source": [
        "video_stream()\n",
        "# label for video\n",
        "label_html = 'Capturing...'\n",
        "# initialze bounding box to empty\n",
        "bbox = ''\n",
        "count = 0\n",
        "\n",
        "while True:\n",
        "    start_time = timeit.default_timer()\n",
        "\n",
        "    js_reply = video_frame(label_html, bbox)\n",
        "    if not js_reply:\n",
        "        break\n",
        "\n",
        "    # convert JS response to OpenCV Image\n",
        "    frame = js_to_image(js_reply[\"img\"])\n",
        "\n",
        "    frame_rgb = cv2.cvtColor(frame, cv2.COLOR_BGR2RGB)\n",
        "\n",
        "    # create transparent overlay for bounding box\n",
        "    bbox_array = np.zeros([640,640,4], dtype=np.uint8)\n",
        "    prediction = pipeline.recognize([frame_rgb])[0]\n",
        "\n",
        "    for text, box in prediction:\n",
        "      bbox_array = cv2.polylines(\n",
        "                img=bbox_array,\n",
        "                pts=box[np.newaxis].astype(\"int32\"),\n",
        "                color=(255, 0, 0, 255),\n",
        "                thickness=2,\n",
        "                isClosed=True,\n",
        "            )\n",
        "      bbox_array_pil = PIL.Image.fromarray(bbox_array)\n",
        "      draw = PIL.ImageDraw.Draw(bbox_array_pil)\n",
        "      draw.text((box[:, 0].min().astype(int), box[:, 1].min().astype(int)), text, font = get_font(fontpath, box, text), fill = (0, 0, 0, 255))\n",
        "      bbox_array = np.array(bbox_array_pil)\n",
        "    \n",
        "    # convert overlay of bbox into bytes\n",
        "    bbox_bytes = bbox_to_bytes(bbox_array)\n",
        "    # update bbox so next frame gets new overlay\n",
        "    bbox = bbox_bytes\n",
        "\n",
        "    #latency[i] = timeit.default_timer() - start_time\n",
        "    #print(timeit.default_timer() - start_time)"
      ],
      "metadata": {
        "id": "b85DL04cZThn"
      },
      "execution_count": null,
      "outputs": []
    }
  ],
  "metadata": {
    "accelerator": "GPU",
    "colab": {
      "collapsed_sections": [
        "J4Hn14phw31N",
        "RQZ0dMfyY54s",
        "npb7IGS4iXhL",
        "oKYVFDRTs_Fz",
        "9Fwiv09P0Yk_",
        "KG48HQz-vFmj",
        "gw42RVGkvWIb",
        "HCQ2d4Rm4MeG",
        "OZVOpFEIwP6e"
      ],
      "provenance": []
    },
    "gpuClass": "standard",
    "kernelspec": {
      "display_name": "Python 3",
      "name": "python3"
    },
    "language_info": {
      "codemirror_mode": {
        "name": "ipython",
        "version": 3
      },
      "file_extension": ".py",
      "mimetype": "text/x-python",
      "name": "python",
      "nbconvert_exporter": "python",
      "pygments_lexer": "ipython3",
      "version": "3.7.5"
    }
  },
  "nbformat": 4,
  "nbformat_minor": 0
}